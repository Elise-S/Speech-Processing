{
 "cells": [
  {
   "cell_type": "code",
   "execution_count": null,
   "id": "3aa1361a-5c94-4a4a-9261-2b51622a5fe3",
   "metadata": {},
   "outputs": [],
   "source": []
  }
 ],
 "metadata": {
  "kernelspec": {
   "display_name": "",
   "name": ""
  },
  "language_info": {
   "name": ""
  }
 },
 "nbformat": 4,
 "nbformat_minor": 5
}
