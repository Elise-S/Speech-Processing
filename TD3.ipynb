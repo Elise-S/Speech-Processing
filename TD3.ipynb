{
 "cells": [
  {
   "cell_type": "markdown",
   "id": "1d8197d2-4a3e-4233-9136-bd4e336ac820",
   "metadata": {},
   "source": [
    "# TD 3: Focus on biases\n",
    "In this practical class, we will investigate if there are some biases in the data and/or in the model trained on these data, and try to debiase the features. We will focus on the SVM (C = 1, kernel = rbf) classifier you trained in the first practical class on read speech with the eGeMAPS features.\\\n",
    "\\\n",
    "BEFORE DOING ANYTHING ELSE\\\n",
    "**Task n°1. Install the pingouin and statsmodels Python package.**"
   ]
  },
  {
   "cell_type": "code",
   "execution_count": null,
   "id": "17ea79a3-0328-42e6-b6de-8c0fd78dc24f",
   "metadata": {},
   "outputs": [
    {
     "ename": "SyntaxError",
     "evalue": "invalid syntax (2125881801.py, line 1)",
     "output_type": "error",
     "traceback": [
      "\u001b[1;36m  Cell \u001b[1;32mIn[5], line 1\u001b[1;36m\u001b[0m\n\u001b[1;33m    pip install statsmodels\u001b[0m\n\u001b[1;37m        ^\u001b[0m\n\u001b[1;31mSyntaxError\u001b[0m\u001b[1;31m:\u001b[0m invalid syntax\n"
     ]
    }
   ],
   "source": [
    "!pip install statsmodels\n",
    "!pip install pingouin"
   ]
  },
  {
   "cell_type": "markdown",
   "id": "742d36e1",
   "metadata": {},
   "source": [
    "# Imports"
   ]
  },
  {
   "cell_type": "code",
   "execution_count": null,
   "id": "234ab7ed-80a6-4779-8d66-8d57ca3e92c4",
   "metadata": {},
   "outputs": [
    {
     "name": "stdout",
     "output_type": "stream",
     "text": [
      "\n",
      "Note: you may need to restart the kernel to use updated packages.Retrieving notices: ...working... done\n",
      "Collecting package metadata (current_repodata.json): ...working... done\n",
      "Solving environment: ...working... done\n",
      "\n",
      "## Package Plan ##\n",
      "\n",
      "  environment location: C:\\Users\\Elise\\anaconda3\n",
      "\n",
      "  added / updated specs:\n",
      "    - pingouin\n",
      "\n",
      "\n",
      "The following packages will be downloaded:\n",
      "\n",
      "    package                    |            build\n",
      "    ---------------------------|-----------------\n",
      "    ca-certificates-2025.10.5  |       h4c7d964_0         153 KB  conda-forge\n",
      "    certifi-2025.10.5          |     pyhd8ed1ab_0         156 KB  conda-forge\n",
      "    littleutils-0.2.4          |     pyhd8ed1ab_1          14 KB  conda-forge\n",
      "    openssl-3.1.8              |       ha4e3fda_0         7.1 MB  conda-forge\n",
      "    outdated-0.2.2             |     pyhd8ed1ab_2          13 KB  conda-forge\n",
      "    pandas-flavor-0.7.0        |     pyhd8ed1ab_0          14 KB  conda-forge\n",
      "    pingouin-0.5.5             |     pyhd8ed1ab_1         162 KB  conda-forge\n",
      "    ------------------------------------------------------------\n",
      "                                           Total:         7.6 MB\n",
      "\n",
      "The following NEW packages will be INSTALLED:\n",
      "\n",
      "  littleutils        conda-forge/noarch::littleutils-0.2.4-pyhd8ed1ab_1 \n",
      "  outdated           conda-forge/noarch::outdated-0.2.2-pyhd8ed1ab_2 \n",
      "  pandas-flavor      conda-forge/noarch::pandas-flavor-0.7.0-pyhd8ed1ab_0 \n",
      "  pingouin           conda-forge/noarch::pingouin-0.5.5-pyhd8ed1ab_1 \n",
      "\n",
      "The following packages will be UPDATED:\n",
      "\n",
      "  ca-certificates    conda-forge/win-64::ca-certificates-2~ --> conda-forge/noarch::ca-certificates-2025.10.5-h4c7d964_0 \n",
      "  certifi                           2024.12.14-pyhd8ed1ab_0 --> 2025.10.5-pyhd8ed1ab_0 \n",
      "  openssl                                  3.1.7-h2466b09_0 --> 3.1.8-ha4e3fda_0 \n",
      "\n",
      "\n",
      "\n",
      "Downloading and Extracting Packages\n",
      "\n",
      "openssl-3.1.8        | 7.1 MB    |            |   0% \n",
      "\n",
      "pingouin-0.5.5       | 162 KB    |            |   0% \u001b[A\n",
      "\n",
      "\n",
      "ca-certificates-2025 | 153 KB    |            |   0% \u001b[A\u001b[A\n",
      "\n",
      "\n",
      "\n",
      "littleutils-0.2.4    | 14 KB     |            |   0% \u001b[A\u001b[A\u001b[A\n",
      "\n",
      "\n",
      "\n",
      "\n",
      "outdated-0.2.2       | 13 KB     |            |   0% \u001b[A\u001b[A\u001b[A\u001b[A\n",
      "\n",
      "\n",
      "\n",
      "\n",
      "\n",
      "certifi-2025.10.5    | 156 KB    |            |   0% \u001b[A\u001b[A\u001b[A\u001b[A\u001b[A\n",
      "\n",
      "\n",
      "\n",
      "\n",
      "\n",
      "\n",
      "pandas-flavor-0.7.0  | 14 KB     |            |   0% \u001b[A\u001b[A\u001b[A\u001b[A\u001b[A\u001b[A\n",
      "\n",
      "\n",
      "\n",
      "littleutils-0.2.4    | 14 KB     | ########## | 100% \u001b[A\u001b[A\u001b[A\n",
      "\n",
      "pingouin-0.5.5       | 162 KB    | 9          |  10% \u001b[A\n",
      "\n",
      "\n",
      "\n",
      "littleutils-0.2.4    | 14 KB     | ########## | 100% \u001b[A\u001b[A\u001b[A\n",
      "\n",
      "\n",
      "ca-certificates-2025 | 153 KB    | #          |  10% \u001b[A\u001b[A\n",
      "\n",
      "\n",
      "\n",
      "\n",
      "outdated-0.2.2       | 13 KB     | ########## | 100% \u001b[A\u001b[A\u001b[A\u001b[A\n",
      "openssl-3.1.8        | 7.1 MB    |            |   0% \n",
      "\n",
      "pingouin-0.5.5       | 162 KB    | ####9      |  49% \u001b[A\n",
      "\n",
      "\n",
      "\n",
      "\n",
      "outdated-0.2.2       | 13 KB     | ########## | 100% \u001b[A\u001b[A\u001b[A\u001b[A\n",
      "\n",
      "\n",
      "ca-certificates-2025 | 153 KB    | ####1      |  42% \u001b[A\u001b[A\n",
      "\n",
      "\n",
      "\n",
      "\n",
      "\n",
      "certifi-2025.10.5    | 156 KB    | #          |  10% \u001b[A\u001b[A\u001b[A\u001b[A\u001b[A\n",
      "openssl-3.1.8        | 7.1 MB    |            |   1% \n",
      "\n",
      "pingouin-0.5.5       | 162 KB    | #######8   |  79% \u001b[A\n",
      "\n",
      "\n",
      "\n",
      "\n",
      "\n",
      "\n",
      "pandas-flavor-0.7.0  | 14 KB     | ########## | 100% \u001b[A\u001b[A\u001b[A\u001b[A\u001b[A\u001b[A\n",
      "\n",
      "\n",
      "\n",
      "\n",
      "\n",
      "\n",
      "pandas-flavor-0.7.0  | 14 KB     | ########## | 100% \u001b[A\u001b[A\u001b[A\u001b[A\u001b[A\u001b[A\n",
      "\n",
      "\n",
      "ca-certificates-2025 | 153 KB    | ########3  |  84% \u001b[A\u001b[A\n",
      "\n",
      "\n",
      "\n",
      "\n",
      "\n",
      "certifi-2025.10.5    | 156 KB    | ####       |  41% \u001b[A\u001b[A\u001b[A\u001b[A\u001b[A\n",
      "openssl-3.1.8        | 7.1 MB    | 2          |   3% \n",
      "\n",
      "\n",
      "\n",
      "\n",
      "\n",
      "certifi-2025.10.5    | 156 KB    | ########## | 100% \u001b[A\u001b[A\u001b[A\u001b[A\u001b[A\n",
      "\n",
      "\n",
      "\n",
      "\n",
      "\n",
      "certifi-2025.10.5    | 156 KB    | ########## | 100% \u001b[A\u001b[A\u001b[A\u001b[A\u001b[A\n",
      "\n",
      "pingouin-0.5.5       | 162 KB    | ########## | 100% \u001b[A\n",
      "\n",
      "\n",
      "ca-certificates-2025 | 153 KB    | ########## | 100% \u001b[A\u001b[A\n",
      "openssl-3.1.8        | 7.1 MB    | 5          |   6% \n",
      "openssl-3.1.8        | 7.1 MB    | 7          |   8% \n",
      "openssl-3.1.8        | 7.1 MB    | #1         |  12% \n",
      "\n",
      "pingouin-0.5.5       | 162 KB    | ########## | 100% \u001b[A\n",
      "openssl-3.1.8        | 7.1 MB    | #3         |  14% \n",
      "openssl-3.1.8        | 7.1 MB    | #7         |  18% \n",
      "openssl-3.1.8        | 7.1 MB    | ##         |  21% \n",
      "openssl-3.1.8        | 7.1 MB    | ##3        |  23% \n",
      "openssl-3.1.8        | 7.1 MB    | ##7        |  27% \n",
      "openssl-3.1.8        | 7.1 MB    | ###1       |  31% \n",
      "openssl-3.1.8        | 7.1 MB    | ###5       |  36% \n",
      "openssl-3.1.8        | 7.1 MB    | ###8       |  39% \n",
      "openssl-3.1.8        | 7.1 MB    | ####6      |  46% \n",
      "openssl-3.1.8        | 7.1 MB    | #####1     |  51% \n",
      "openssl-3.1.8        | 7.1 MB    | #####5     |  56% \n",
      "openssl-3.1.8        | 7.1 MB    | ######     |  61% \n",
      "openssl-3.1.8        | 7.1 MB    | ######3    |  64% \n",
      "openssl-3.1.8        | 7.1 MB    | ######6    |  67% \n",
      "openssl-3.1.8        | 7.1 MB    | #######1   |  71% \n",
      "openssl-3.1.8        | 7.1 MB    | #######4   |  74% \n",
      "openssl-3.1.8        | 7.1 MB    | #######9   |  79% \n",
      "openssl-3.1.8        | 7.1 MB    | ########4  |  85% \n",
      "openssl-3.1.8        | 7.1 MB    | ########9  |  90% \n",
      "openssl-3.1.8        | 7.1 MB    | #########5 |  95% \n",
      "openssl-3.1.8        | 7.1 MB    | #########9 | 100% \n",
      "openssl-3.1.8        | 7.1 MB    | ########## | 100% \n",
      "                                                     \n",
      "\n",
      "\n",
      "                                                     \u001b[A\n",
      "\n",
      "\n",
      "                                                     \u001b[A\u001b[A\n",
      "\n",
      "\n",
      "\n",
      "                                                     \u001b[A\u001b[A\u001b[A\n",
      "\n",
      "\n",
      "\n",
      "\n",
      "                                                     \u001b[A\u001b[A\u001b[A\u001b[A\n",
      "\n",
      "\n",
      "\n",
      "\n",
      "\n",
      "                                                     \u001b[A\u001b[A\u001b[A\u001b[A\u001b[A\n",
      "\n",
      "\n",
      "\n",
      "\n",
      "\n",
      "\n",
      "                                                     \u001b[A\u001b[A\u001b[A\u001b[A\u001b[A\u001b[A\n",
      "\n",
      "Preparing transaction: ...working... done\n",
      "Verifying transaction: ...working... done\n",
      "Executing transaction: ...working... done\n",
      "\n"
     ]
    },
    {
     "name": "stderr",
     "output_type": "stream",
     "text": [
      "Error while loading conda entry point: anaconda-cloud-auth (cannot import name 'ChannelAuthBase' from 'conda.plugins.types' (C:\\Users\\Elise\\anaconda3\\Lib\\site-packages\\conda\\plugins\\types.py))\n",
      "Error while loading conda entry point: anaconda-cloud-auth (cannot import name 'ChannelAuthBase' from 'conda.plugins.types' (C:\\Users\\Elise\\anaconda3\\Lib\\site-packages\\conda\\plugins\\types.py))\n",
      "\n",
      "\n",
      "==> WARNING: A newer version of conda exists. <==\n",
      "  current version: 23.7.4\n",
      "  latest version: 25.9.1\n",
      "\n",
      "Please update conda by running\n",
      "\n",
      "    $ conda update -n base -c conda-forge conda\n",
      "\n",
      "Or to minimize the number of packages updated during conda update use\n",
      "\n",
      "     conda install conda=25.9.1\n",
      "\n",
      "\n"
     ]
    }
   ],
   "source": [
    "import pandas as pd\n",
    "import re\n",
    "import numpy as np\n",
    "import matplotlib.pyplot as plt\n",
    "import pingouin as pg\n",
    "import statsmodels.formula.api as smf\n",
    "from sklearn.ensemble import RandomForestClassifier\n",
    "from sklearn.preprocessing import LabelEncoder\n",
    "from iterstrat.ml_stratifiers import MultilabelStratifiedKFold\n",
    "from sklearn.metrics import balanced_accuracy_score\n",
    "from sklearn.model_selection import StratifiedKFold, cross_val_predict\n",
    "from sklearn.base import clone"
   ]
  },
  {
   "cell_type": "markdown",
   "id": "8f80c37d",
   "metadata": {},
   "source": [
    "# Core Parsing and Analysis Function on the Reading Task"
   ]
  },
  {
   "cell_type": "code",
   "execution_count": null,
   "id": "626ad218",
   "metadata": {},
   "outputs": [],
   "source": [
    "if __name__ == \"__main__\":\n",
    "    # IMPORTANT: Please update this path to your actual data file.\n",
    "    # The 'r' before the string helps handle Windows backslashes correctly.\n",
    "    main_file_path = r'/content/combined_data.csv'\n",
    "    main_directory_column = 'directory'\n",
    "    \n",
    "    run_full_analysis(main_file_path, main_directory_column)\n",
    "\n",
    "\n",
    "def parse_filename(filename):\n",
    "    \"\"\"\n",
    "    Parses a single filename to extract diagnosis, sex, age, and education level.\n",
    "    Returns a dictionary with all parts or None if no match is found.\n",
    "    \"\"\"\n",
    "    clean_filename = str(filename).strip()\n",
    "    match = re.match(r'(\\d+)_([CP])([FM])(\\d{1,2})_(\\d+|x)', clean_filename, re.IGNORECASE)\n",
    "\n",
    "    if match:\n",
    "        parts = match.groups()\n",
    "        edu_part = parts[4]\n",
    "        \n",
    "        if edu_part.lower() == 'x':\n",
    "            edu_level = np.nan\n",
    "        else:\n",
    "            edu_level = int(edu_part)\n",
    "            \n",
    "        return {\n",
    "            'diagnosis': 'Patient' if parts[1].upper() == 'P' else 'Control',\n",
    "            'sex': 'Female' if parts[2].upper() == 'F' else 'Male',\n",
    "            'age': int(parts[3]),\n",
    "            'education_level': edu_level\n",
    "        }\n",
    "    return None\n",
    "\n",
    "# --- MAIN ANALYSIS FUNCTION ---\n",
    "def run_full_analysis(file_path, directory_column_name):\n",
    "    \"\"\"\n",
    "    Executes all tasks from 1 to 16.\n",
    "    \"\"\"\n",
    "    # --- DATA PREPARATION (COMMON TO ALL TASKS) ---\n",
    "    print(\"--- Preparing Data ---\")\n",
    "    try:\n",
    "        df_full = pd.read_csv(file_path)\n",
    "    except FileNotFoundError:\n",
    "        print(f\"ERROR: File not found at {file_path}. Please check the path.\")\n",
    "        return\n",
    "\n",
    "    parsed_df = df_full[directory_column_name].apply(parse_filename).apply(pd.Series)\n",
    "    df = pd.concat([df_full, parsed_df], axis=1)\n",
    "    df.dropna(subset=['diagnosis', 'sex', 'age'], inplace=True)\n",
    "    print(f\"Data prepared successfully. Found {len(df)} valid participants.\")"
   ]
  },
  {
   "cell_type": "markdown",
   "id": "5de4f83b-1072-4480-b25c-e136a0a21b55",
   "metadata": {},
   "source": [
    "Statistical tests in Python\\\n",
    "All the necessary statistical tests can be run directly from the pingouin package, given that your data is already clean and structured on the correct Pandas dataframe.\\\n",
    "Using pingouin:\n",
    "- χ2 [doc]\n",
    "- Mann-Whitney’s U [doc]\n",
    "\n",
    "Using import statsmodels.formula.api as smf:\n",
    "- Logistic regression: smf.logit(\"a ∼ b * c * d\", data=data).fit()\n",
    "- Linear regression: smf.ols(\"a ∼ b * c * d\", data=data).fit()"
   ]
  },
  {
   "cell_type": "markdown",
   "id": "6b361ad7-e62c-411b-80d1-9ad74572a4d7",
   "metadata": {},
   "source": [
    "## 1 Biases in data\n",
    "### 1.1 Univariate bias (*)\n",
    "**Task n°2. Describe the sex, age, and level of education depending on the diagnosis.**"
   ]
  },
  {
   "cell_type": "code",
   "execution_count": null,
   "id": "aea8f6b6-dc90-4a5d-83b9-5a88a0b0b211",
   "metadata": {},
   "outputs": [],
   "source": [
    " print(\"\\n\\n\" + \"=\"*50)\n",
    "    print(\"SECTION 1: BIASES IN DATA\")\n",
    "    print(\"=\"*50)\n",
    "\n",
    "    # --- Task 2: Describe demographics by diagnosis ---\n",
    "    print(\"\\n--- Task 2: Descriptive Statistics by Diagnosis ---\")\n",
    "    for group_name, group_df in df.groupby('diagnosis'):\n",
    "        print(f\"\\n--- Analysis for '{group_name}' Group ---\")\n",
    "        print(\"\\n-- Age --\\n\", group_df['age'].describe().loc[['count', 'mean', 'std', 'min', 'max']])\n",
    "        print(\"\\n-- Sex Distribution --\\n\", (group_df['sex'].value_counts(normalize=True) * 100).apply(lambda x: f\"{x:.2f}%\"))\n",
    "        print(\"\\n-- Education Level Distribution --\\n\", (group_df['education_level'].value_counts(normalize=True).sort_index() * 100).apply(lambda x: f\"{x:.2f}%\"))\n"
   ]
  },
  {
   "cell_type": "markdown",
   "id": "b4fc9ef1-9b42-4a98-b832-04d86bbc9bf1",
   "metadata": {},
   "source": [
    "**Task n°3. Apply statistical tests to identify biases in the data (i.e. differences between the two ‘depressed patient’ and ‘healthy control’ classes). Pick the relevant statistical tests: χ2 for sex, Mann-Whitney’s U for age, χ2 for level of education (cf. box at the end of this file for more details).**"
   ]
  },
  {
   "cell_type": "code",
   "execution_count": null,
   "id": "7deb8b5f-b319-413d-be78-8800eb4b34c6",
   "metadata": {},
   "outputs": [],
   "source": [
    " print(\"\\n--- Task 3: Statistical Tests for Univariate Bias ---\")\n",
    "    print(\"\\n1. Sex vs. Diagnosis (Chi-squared Test)\")\n",
    "    print(pg.chi2_independence(data=df, x='diagnosis', y='sex')[2])\n",
    "    \n",
    "    print(\"\\n2. Age vs. Diagnosis (Mann-Whitney U Test)\")\n",
    "    patient_age = df[df['diagnosis'] == 'Patient']['age']\n",
    "    control_age = df[df['diagnosis'] == 'Control']['age']\n",
    "    print(pg.mwu(patient_age, control_age))\n",
    "\n",
    "    print(\"\\n3. Education Level vs. Diagnosis (Chi-squared Test)\")\n",
    "    print(pg.chi2_independence(data=df, x='diagnosis', y='education_level')[2])"
   ]
  },
  {
   "cell_type": "markdown",
   "id": "1ffa14ba-9536-48b6-87f4-4db4e6f16c16",
   "metadata": {},
   "source": [
    "**Q1. Given these results, is the dataset biased?**"
   ]
  },
  {
   "cell_type": "markdown",
   "id": "803dad2e",
   "metadata": {},
   "source": [
    "Even with the notable difference between Male and Female participant in both groups, the difference isn't significative enough to call the dataset biased"
   ]
  },
  {
   "cell_type": "markdown",
   "id": "ce1ceec7",
   "metadata": {},
   "source": [
    "## 1.2 Multivariate bias"
   ]
  },
  {
   "cell_type": "markdown",
   "id": "d907d194",
   "metadata": {},
   "source": [
    "In the previous section, we only observed if there were univariate biases (e.g. difference between Male and\n",
    "Female, independently from their age). In this section, we want to investigate multivariate biases, e.g. if\n",
    "depression is more prevalent in aged Males with lower education than in young Female with higher education.\n",
    "On way to do it is to perform a logistic regression, estimating the depression status depending on the\n",
    "compound effect of the dependant variables."
   ]
  },
  {
   "cell_type": "markdown",
   "id": "1a1159f8",
   "metadata": {},
   "source": [
    "Task 4"
   ]
  },
  {
   "cell_type": "code",
   "execution_count": null,
   "id": "eee81e67",
   "metadata": {},
   "outputs": [],
   "source": [
    "print(\"\\n--- Task 4: Logistic Regression for Multivariate Data Bias ---\")\n",
    "    df_regr = df.copy()\n",
    "    df_regr['Dep_status'] = (df_regr['diagnosis'] == 'Patient').astype(int)\n",
    "    df_regr.dropna(subset=['education_level'], inplace=True)\n",
    "    formula_data_bias = \"Dep_status ~ C(sex) * age * education_level\"\n",
    "    model_data_bias = smf.logit(formula_data_bias, data=df_regr).fit(disp=0)\n",
    "    print(model_data_bias.summary())"
   ]
  },
  {
   "cell_type": "markdown",
   "id": "e140e0d3",
   "metadata": {},
   "source": [
    "Q2 : What does the equation sex + age + edu.level mean?\n",
    "\n",
    "This formula represents an additive model. It is used to test the independent effect of each demographic variable (sex, age, education_level) on the diagnosis, assuming the effect of one variable is not influenced by the others. For example, it assumes the effect of age on diagnosis is the same for both males and females."
   ]
  },
  {
   "cell_type": "markdown",
   "id": "4e212141",
   "metadata": {},
   "source": [
    "Q3: This formula represents a multiplicative or interaction model. It is more complex and tests for three things:\n",
    "\n",
    "The independent (\"main\") effect of each variable.\n",
    "\n",
    "The two-way interaction effects (e.g., is the effect of age different for males vs. females?).\n",
    "\n",
    "The three-way interaction effect (e.g., is the effect of age and education combined different for males vs. females?)."
   ]
  },
  {
   "cell_type": "markdown",
   "id": "460b4b9b",
   "metadata": {},
   "source": [
    "Q4. Interpret the results of the regression. Is there multivariate biases in the dataset?\n",
    "\n",
    "Based on the logistic regression results from Task 4, the overall model's LLR p-value is  0.7975.\n",
    "\n",
    "Since this value is greater than 0.05, the model as a whole is not statistically significant. Furthermore, looking at the P>|z| values for the individual interaction terms, none of them are below the 0.05 threshold.\n",
    "\n",
    "Conclusion: Therefore, we conclude that there is no significant evidence of multivariate bias in the dataset. A combination of demographic factors does not appear to reliably predict the diagnosis."
   ]
  },
  {
   "cell_type": "markdown",
   "id": "5442d964",
   "metadata": {},
   "source": [
    "## 2. Bias in the model"
   ]
  },
  {
   "cell_type": "markdown",
   "id": "39c46256",
   "metadata": {},
   "source": [
    "### 2.1 Observing univariate biases"
   ]
  },
  {
   "cell_type": "markdown",
   "id": "098bc06d",
   "metadata": {},
   "source": [
    "#### 2.1.1 Sex"
   ]
  },
  {
   "cell_type": "markdown",
   "id": "189f3e78",
   "metadata": {},
   "source": [
    "Task 5 and 6 are incorporated inside task 16"
   ]
  },
  {
   "cell_type": "markdown",
   "id": "51a7fada",
   "metadata": {},
   "source": [
    "Q5. Is there a link between the performance and the sex of the speaker? What do you conclude?\n",
    "\n",
    "Looking at the final performance summary table from Task 16, the average UAR for Females (F) is 0.7600 and for Males (M) is 0.6833.\n",
    "\n",
    "Since these values are different, we can conclude that there is a significant link between the model's performance and the sex of the speaker."
   ]
  },
  {
   "cell_type": "markdown",
   "id": "8560b9bf",
   "metadata": {},
   "source": [
    "Task 7, 8, 9"
   ]
  },
  {
   "cell_type": "code",
   "execution_count": null,
   "id": "7a3002fc",
   "metadata": {},
   "outputs": [],
   "source": [
    "print(\"\\n--- Task 7, 8 & 9: Age Distribution and Categorization ---\")\n",
    "    bins = [0, 30, 40, 50, 60, 101]\n",
    "    labels = ['<30', '30-39', '40-49', '50-59', '60+']\n",
    "    df['age_group'] = pd.cut(df['age'], bins=bins, labels=labels, right=False)\n",
    "    age_group_counts = df['age_group'].value_counts().sort_index()\n",
    "    print(\"\\nParticipant Count per Merged Age Group:\\n\", age_group_counts)\n",
    "\n",
    "    # Plotting age distributions\n",
    "    plt.figure(figsize=(12, 5))\n",
    "    plt.subplot(1, 2, 1)\n",
    "    plt.hist(df['age'], bins=15, color='teal', edgecolor='black')\n",
    "    plt.title('Age Distribution')\n",
    "    plt.xlabel('Age')\n",
    "    plt.ylabel('Frequency')\n",
    "    plt.subplot(1, 2, 2)\n",
    "    age_group_counts.plot(kind='bar', color='skyblue', edgecolor='black')\n",
    "    plt.title('Participants by Age Group')\n",
    "    plt.xlabel('Age Group')\n",
    "    plt.ylabel('Frequency')\n",
    "    plt.xticks(rotation=45)\n",
    "    plt.tight_layout()\n",
    "    plt.suptitle(\"Age Analysis\", fontsize=16)\n",
    "    plt.show()\n",
    "\n"
   ]
  },
  {
   "cell_type": "markdown",
   "id": "f82801d2",
   "metadata": {},
   "source": [
    "Q6. What do you think about the number of participants in each age category?\n",
    "\n",
    "After merging the extreme categories in Task 9, the participant count for each age group is well-distributed, with each category containing at least 10 individuals. This makes the subsequent performance analysis for each group more statistically reliable and reduces the chance of having no members of a certain class in a test fold."
   ]
  },
  {
   "cell_type": "markdown",
   "id": "733e4d45",
   "metadata": {},
   "source": [
    "Q7. Is there a link between performances and age?\n",
    "\n",
    "Yes, there appears to be a link. The average UAR scores vary across the different age groups, as seen in the final table from Task 16.\n",
    "\n",
    "The model performs best in the 40-49 group (UAR = 0.8786) and worst in the 30-39 group (UAR = 0.6966). This suggests that the model's effectiveness is influenced by the speaker's age."
   ]
  },
  {
   "cell_type": "markdown",
   "id": "2d02afe6",
   "metadata": {},
   "source": [
    "Task 10 and 11 covered in Task 16 as well"
   ]
  },
  {
   "cell_type": "markdown",
   "id": "7a44502a",
   "metadata": {},
   "source": [
    "Q8. Is there a link between the performances of the classifier and the education level of the speakers?\n",
    "\n",
    "Based on the final table from Task 16, the average UAR scores across the different education levels are: Edu 1: 0.9000, Edu 2 : 0.7786, Edu 3: 0.8024, Edu 4: 0.5182\n",
    "\n",
    "Since these values are vary significantly, it suggests that there is a link between model performance and the education level of the speakers."
   ]
  },
  {
   "cell_type": "markdown",
   "id": "2b91007a",
   "metadata": {},
   "source": [
    "## 2.2 Multivariate biases"
   ]
  },
  {
   "cell_type": "markdown",
   "id": "0f716229",
   "metadata": {},
   "source": [
    "Task 12 and 13"
   ]
  },
  {
   "cell_type": "code",
   "execution_count": null,
   "id": "486f6716",
   "metadata": {},
   "outputs": [],
   "source": [
    " print(\"\\n--- Task 12 & 13: Logistic Regression for Multivariate Model Bias ---\")\n",
    "    y_preds_standard = cross_val_predict(base_model, X, y_encoded, cv=skf)\n",
    "    df['correctly_classified'] = (y_encoded == y_preds_standard).astype(int)\n",
    "    df_regr_model = df.dropna(subset=['education_level'])\n",
    "    formula_model_bias = \"correctly_classified ~ C(sex) * age * education_level\"\n",
    "    model_model_bias = smf.logit(formula_model_bias, data=df_regr_model).fit(disp=0)\n",
    "    print(model_model_bias.summary())"
   ]
  },
  {
   "cell_type": "markdown",
   "id": "ee8a2a2f",
   "metadata": {},
   "source": [
    "Q9. Interpret the results of the regression. Is there multivariate biases in the model?\n",
    "\n",
    "Based on the logistic regression results from Task 13, the overall model's LLR p-value is 0.9290.\n",
    "\n",
    "Since this is greater than 0.05, the model as a whole is not statistically significant. This indicates that there is no significant evidence that a combination of sex, age, and education level can predict whether the model will classify a speaker correctly. Therefore, we conclude there is no evidence of multivariate bias in the model's performance."
   ]
  },
  {
   "cell_type": "markdown",
   "id": "f8bebae0",
   "metadata": {},
   "source": [
    "# 3. Debiasing"
   ]
  },
  {
   "cell_type": "markdown",
   "id": "0d5aaa3e",
   "metadata": {},
   "source": [
    "Task 14 and 15"
   ]
  },
  {
   "cell_type": "code",
   "execution_count": null,
   "id": "8712723a",
   "metadata": {},
   "outputs": [],
   "source": [
    " print(\"\\n--- Task 14 & 15: Generating Predictions with Iterative Stratification ---\")\n",
    "    stratify_df = pd.DataFrame({\n",
    "        'diagnosis': y_encoded,\n",
    "        'sex': df['sex'].astype('category').cat.codes,\n",
    "        'age_group': df['age_group'].astype('category').cat.codes\n",
    "    })\n",
    "    mskf = MultilabelStratifiedKFold(n_splits=5, shuffle=True, random_state=42)\n",
    "    y_preds_iterstrat = np.zeros_like(y_encoded)\n",
    "\n",
    "    for train_index, test_index in mskf.split(X, stratify_df):\n",
    "        X_train, X_test = X.iloc[train_index], X.iloc[test_index]\n",
    "        y_train = y_encoded[train_index]\n",
    "        \n",
    "        fold_model = clone(base_model)\n",
    "        fold_model.fit(X_train, y_train)\n",
    "        y_preds_iterstrat[test_index] = fold_model.predict(X_test)\n",
    "    print(\"Predictions generated successfully.\")\n"
   ]
  },
  {
   "cell_type": "markdown",
   "id": "b128499a",
   "metadata": {},
   "source": [
    "Task 16"
   ]
  },
  {
   "cell_type": "code",
   "execution_count": null,
   "id": "0a68d297",
   "metadata": {},
   "outputs": [],
   "source": [
    "print(\"\\n--- Task 16: Performance Summary using Iterative Stratification ---\")\n",
    "    results = []\n",
    "    y_true = y_encoded\n",
    "    y_pred = y_preds_iterstrat\n",
    "\n",
    "    # Overall\n",
    "    results.append({'Category': 'Overall', 'UAR': balanced_accuracy_score(y_true, y_pred), 'N': len(df)})\n",
    "    \n",
    "    # By Sex\n",
    "    for sex_group in ['Female', 'Male']:\n",
    "        mask = (df['sex'] == sex_group)\n",
    "        results.append({'Category': sex_group[0], 'UAR': balanced_accuracy_score(y_true[mask], y_pred[mask]), 'N': mask.sum()})\n",
    "\n",
    "    # By Age Group\n",
    "    for age_group in labels:\n",
    "        mask = (df['age_group'] == age_group)\n",
    "        results.append({'Category': age_group, 'UAR': balanced_accuracy_score(y_true[mask], y_pred[mask]), 'N': mask.sum()})\n",
    "\n",
    "    # By Education Level\n",
    "    df_edu_temp = df.dropna(subset=['education_level'])\n",
    "    edu_levels = sorted(df_edu_temp['education_level'].unique())\n",
    "    for edu_level in edu_levels:\n",
    "         mask = (df['education_level'] == edu_level)\n",
    "         results.append({'Category': f'Edu {int(edu_level)}', 'UAR': balanced_accuracy_score(y_true[mask], y_pred[mask]), 'N': mask.sum()})\n",
    "\n",
    "    results_df_final = pd.DataFrame(results).set_index('Category')\n",
    "    print(results_df_final.round(4).to_string())\n",
    "    # Q10 is an interpretation of this final table."
   ]
  }
 ],
 "metadata": {
  "kernelspec": {
   "display_name": "Python 3 (ipykernel)",
   "language": "python",
   "name": "python3"
  },
  "language_info": {
   "codemirror_mode": {
    "name": "ipython",
    "version": 3
   },
   "file_extension": ".py",
   "mimetype": "text/x-python",
   "name": "python",
   "nbconvert_exporter": "python",
   "pygments_lexer": "ipython3",
   "version": "3.11.5"
  }
 },
 "nbformat": 4,
 "nbformat_minor": 5
}
