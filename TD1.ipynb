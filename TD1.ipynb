{
 "cells": [
  {
   "cell_type": "markdown",
   "id": "3d932699",
   "metadata": {},
   "source": [
    "# Speech Processing - TD1"
   ]
  },
  {
   "cell_type": "code",
   "execution_count": null,
   "id": "fc813e53",
   "metadata": {
    "vscode": {
     "languageId": "plaintext"
    }
   },
   "outputs": [],
   "source": [
    "# Task 3: Plot a spectrogram (to see quality of audio signal)\n",
    "!pip install -U praat-parselmouth\n",
    "import parselmouth\n",
    "import matplotlib.pyplot as plt\n",
    "import numpy as np\n",
    "import seaborn as sns"
   ]
  }
 ],
 "metadata": {
  "language_info": {
   "name": "python"
  }
 },
 "nbformat": 4,
 "nbformat_minor": 5
}
