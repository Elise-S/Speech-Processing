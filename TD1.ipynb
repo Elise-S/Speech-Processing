{
 "cells": [
  {
   "cell_type": "markdown",
   "id": "3d932699",
   "metadata": {},
   "source": [
    "# Speech Processing - TD1"
   ]
  },
  {
   "cell_type": "markdown",
   "id": "cba1ee58",
   "metadata": {},
   "source": [
    "## Part 1: Qualitative analysis of audio files"
   ]
  },
  {
   "cell_type": "markdown",
   "id": "8972416d",
   "metadata": {
    "vscode": {
     "languageId": "plaintext"
    }
   },
   "source": [
    "**Question 1: In your opinion, why do we use this dataset?**\n",
    "Q1: Equilibrate between all characteristics of speakers (age, gender (reflect reality), control/depressed groups, education level)\n",
    "Clinicians made diagnoses and thus label + real-life setting conditions (hospital, close of patients)\n",
    "It's one of the rare health and speech dataset available to practice. It also allows us to see how we can perform a classification task on speech features (like the authors did for depression in their article).\n",
    "+ Italian\n",
    "\n"
   ]
  },
  {
   "cell_type": "code",
   "execution_count": null,
   "id": "fc813e53",
   "metadata": {
    "vscode": {
     "languageId": "plaintext"
    }
   },
   "outputs": [],
   "source": [
    "# Task 3: Plot a spectrogram (to see quality of audio signal)\n",
    "!pip install -U praat-parselmouth\n",
    "import parselmouth\n",
    "import matplotlib.pyplot as plt\n",
    "import numpy as np\n",
    "import seaborn as sns"
   ]
  },
  {
   "cell_type": "code",
   "execution_count": null,
   "id": "db149ff2",
   "metadata": {
    "vscode": {
     "languageId": "plaintext"
    }
   },
   "outputs": [],
   "source": [
    "#Q2\n",
    "def signaltonoise(a, axis=0, ddof=0):\n",
    "    \"\"\"\n",
    "    \n",
    "    :param a: the speech waveform\n",
    "    :param axis: the axis to compute the mean\n",
    "    :param ddof: \n",
    "    :return: the signal-to-noise\n",
    "    \"\"\"\n",
    "    a = np.asanyarray(a)\n",
    "    m = a.mean(axis)\n",
    "    sd = a.std(axis=axis, ddof=ddof)\n",
    "    return np.where(sd == 0, 0, m/sd)\n",
    "\n",
    "\n",
    "def question_2():\n",
    "    \"\"\"\n",
    "    Answer to question: retrieve all requiered informations from hc, pt and all files then compute avg, std, min, max of\n",
    "    these variables. \n",
    "    :return: None\n",
    "    \"\"\"\n",
    "    # Task 3\n",
    "    root_hc = r'C:\\Users\\Cam\\PycharmProjects\\td_speech_processing\\Androids-Corpus\\Interview-Task\\audio\\HC'\n",
    "    root_pt = r'C:\\Users\\Cam\\PycharmProjects\\td_speech_processing\\Androids-Corpus\\Interview-Task\\audio\\PT'\n",
    "\n",
    "    filenames_hc = [f'{root_hc}/{f}' for f in listdir(root_hc) if isfile(join(root_hc, f))]\n",
    "    filenames_pt = [f'{root_pt}/{f}' for f in listdir(root_pt) if isfile(join(root_pt, f))]\n",
    "\n",
    "    all_files = filenames_hc + filenames_pt\n",
    "\n",
    "    durations = []\n",
    "    snrs = []\n",
    "    sample_rates = []\n",
    "    bitrates = []\n",
    "\n",
    "    print(\"All filenames_hc\")\n",
    "    for file in filenames_hc:\n",
    "        # Load audio\n",
    "        SPEECH_WAVEFORM, SAMPLE_RATE = torchaudio.load(file)\n",
    "        sample_rates.append(SAMPLE_RATE)\n",
    "        snr = signaltonoise(SPEECH_WAVEFORM.numpy()[0])\n",
    "        snrs.append(snr)\n",
    "        duration = SPEECH_WAVEFORM.shape[1] / SAMPLE_RATE\n",
    "        metadata = torchaudio.info(file)\n",
    "        bitrate = metadata.sample_rate * metadata.bits_per_sample / 1000\n",
    "        bitrates.append(bitrate)\n",
    "        durations.append(duration)\n",
    "\n",
    "    print(f\"Sample rate: {set(sample_rates)}\\n\"\n",
    "          f\"Bitrate: {set(bitrates)}\\n\"\n",
    "          f\"Mean duration: {round(np.mean(durations), 3)}'s\\n\"\n",
    "          f\"Std duration: {round(np.std(durations), 3)}'s\\n\"\n",
    "          f\"Min duration: {round(np.min(durations), 3)}'s\\n\"\n",
    "          f\"Max duration: {round(np.max(durations), 3)}'s\\n\"\n",
    "          f\"Mean snr: {round(np.mean(snrs), 7)}'s\\n\"\n",
    "          f\"Std snr: {round(np.std(snrs), 7)}'s\\n\"\n",
    "          f\"Min snr: {round(np.min(snrs), 7)}'s\\n\"\n",
    "          f\"Max snr: {round(np.max(snrs), 7)}'s\\n\"\n",
    "          )\n",
    "\n",
    "\n",
    "    durations = []\n",
    "    snrs = []\n",
    "    sample_rates = []\n",
    "    bitrates = []\n",
    "    print(\"All filenames_pt\")\n",
    "    for file in filenames_pt:\n",
    "        # Load audio\n",
    "        SPEECH_WAVEFORM, SAMPLE_RATE = torchaudio.load(file)\n",
    "        sample_rates.append(SAMPLE_RATE)\n",
    "        snr = signaltonoise(SPEECH_WAVEFORM.numpy()[0])\n",
    "        snrs.append(snr)\n",
    "        duration = SPEECH_WAVEFORM.shape[1] / SAMPLE_RATE\n",
    "        metadata = torchaudio.info(file)\n",
    "        bitrate = metadata.sample_rate * metadata.bits_per_sample / 1000\n",
    "        bitrates.append(bitrate)\n",
    "        durations.append(duration)\n",
    "\n",
    "    print(f\"Sample rate: {set(sample_rates)}\\n\"\n",
    "          f\"Bitrate: {set(bitrates)}\\n\"\n",
    "          f\"Mean duration: {round(np.mean(durations), 3)}'s\\n\"\n",
    "          f\"Std duration: {round(np.std(durations), 3)}'s\\n\"\n",
    "          f\"Min duration: {round(np.min(durations), 3)}'s\\n\"\n",
    "          f\"Max duration: {round(np.max(durations), 3)}'s\\n\"\n",
    "          f\"Mean snr: {round(np.mean(snrs), 7)}'s\\n\"\n",
    "          f\"Std snr: {round(np.std(snrs), 7)}'s\\n\"\n",
    "          f\"Min snr: {round(np.min(snrs), 7)}'s\\n\"\n",
    "          f\"Max snr: {round(np.max(snrs), 7)}'s\\n\")\n",
    "\n",
    "    durations = []\n",
    "    snrs = []\n",
    "    sample_rates = []\n",
    "    bitrates = []\n",
    "    print(\"All files\")\n",
    "    for file in all_files:\n",
    "        # Load audio\n",
    "        SPEECH_WAVEFORM, SAMPLE_RATE = torchaudio.load(file)\n",
    "        sample_rates.append(SAMPLE_RATE)\n",
    "        snr = signaltonoise(SPEECH_WAVEFORM.numpy()[0])\n",
    "        snrs.append(snr)\n",
    "        duration = SPEECH_WAVEFORM.shape[1] / SAMPLE_RATE\n",
    "        metadata = torchaudio.info(file)\n",
    "        bitrate = metadata.sample_rate * metadata.bits_per_sample / 1000\n",
    "        bitrates.append(bitrate)\n",
    "        durations.append(duration)\n",
    "\n",
    "    print(f\"Sample rate: {set(sample_rates)}\\n\"\n",
    "          f\"Bitrate: {set(bitrates)}\\n\"\n",
    "          f\"Mean duration: {round(np.mean(durations), 3)}'s\\n\"\n",
    "          f\"Std duration: {round(np.std(durations), 3)}'s\\n\"\n",
    "          f\"Min duration: {round(np.min(durations), 3)}'s\\n\"\n",
    "          f\"Max duration: {round(np.max(durations), 3)}'s\\n\"\n",
    "          f\"Mean snr: {round(np.mean(snrs), 7)}'s\\n\"\n",
    "          f\"Std snr: {round(np.std(snrs), 7)}'s\\n\"\n",
    "          f\"Min snr: {round(np.min(snrs), 7)}'s\\n\"\n",
    "          f\"Max snr: {round(np.max(snrs), 7)}'s\\n\")"
   ]
  }
 ],
 "metadata": {
  "language_info": {
   "name": "python"
  }
 },
 "nbformat": 4,
 "nbformat_minor": 5
}
